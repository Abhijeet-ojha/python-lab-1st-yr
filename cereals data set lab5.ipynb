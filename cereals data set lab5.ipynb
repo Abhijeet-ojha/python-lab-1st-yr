{
  "cells": [
    {
      "cell_type": "code",
      "source": [
        "import pandas as pd\n",
        "\n",
        "# Step 1: Create a CSV file with movie details\n",
        "data = {\n",
        "    \"Movie Name\": [\"Inception\", \"3 Idiots\", \"Parasite\", \"Dangal\", \"Interstellar\", \"Gully Boy\", \"The Dark Knight\", \"Super 30\", \"PK\", \"Joker\"],\n",
        "    \"Language\": [\"English\", \"Hindi\", \"Korean\", \"Hindi\", \"English\", \"Hindi\", \"English\", \"Hindi\", \"Hindi\", \"English\"],\n",
        "    \"Genre\": [\"Sci-Fi\", \"Comedy\", \"Thriller\", \"Sports\", \"Sci-Fi\", \"Drama\", \"Action\", \"Drama\", \"Comedy\", \"Drama\"],\n",
        "    \"Rating\": [8.8, 8.4, 8.6, 8.3, 8.7, 8.2, 9.0, 7.9, 8.1, 8.4],\n",
        "    \"Review\": [\"Amazing\", \"Inspirational\", \"Mind-blowing\", \"Motivational\", \"Brilliant\", \"Great\", \"Masterpiece\", \"Good\", \"Entertaining\", \"Dark\"]\n",
        "}\n",
        "\n",
        "# Convert to DataFrame\n",
        "df = pd.DataFrame(data)\n",
        "\n",
        "# Save DataFrame to CSV\n",
        "df.to_csv(\"Movies.csv\", index=False)\n",
        "\n",
        "# Step 2: Read CSV file\n",
        "df = pd.read_csv(\"Movies.csv\")\n",
        "\n",
        "# Step 3: Find the movie with the highest rating\n",
        "highest_rated_movie = df.loc[df[\"Rating\"].idxmax()]\n",
        "print(\"Movie with highest rating:\\n\", highest_rated_movie)\n",
        "\n",
        "# Step 4: Filter Hindi movies and save to new CSV\n",
        "hindi_movies = df[df[\"Language\"] == \"Hindi\"]\n",
        "hindi_movies.to_csv(\"HindiMovies.csv\", index=False)\n",
        "\n",
        "print(\"Hindi movies saved to HindiMovies.csv\")\n"
      ],
      "metadata": {
        "colab": {
          "base_uri": "https://localhost:8080/"
        },
        "id": "BsiGO-UhGhqD",
        "outputId": "8f206cef-53d9-47df-dc34-eff886ae8715"
      },
      "execution_count": 1,
      "outputs": [
        {
          "output_type": "stream",
          "name": "stdout",
          "text": [
            "Movie with highest rating:\n",
            " Movie Name    The Dark Knight\n",
            "Language              English\n",
            "Genre                  Action\n",
            "Rating                    9.0\n",
            "Review            Masterpiece\n",
            "Name: 6, dtype: object\n",
            "Hindi movies saved to HindiMovies.csv\n"
          ]
        }
      ]
    },
    {
      "cell_type": "code",
      "source": [],
      "metadata": {
        "id": "yqi453OiYHWk"
      },
      "execution_count": null,
      "outputs": []
    },
    {
      "cell_type": "code",
      "source": [
        "from google.colab import drive\n",
        "drive.mount('/content/drive')\n",
        "from google.colab import files\n",
        "uploaded = files.upload()"
      ],
      "metadata": {
        "colab": {
          "base_uri": "https://localhost:8080/",
          "height": 90
        },
        "id": "XYZWbZ9PH3wU",
        "outputId": "8bf3d9cb-e563-423e-a562-763daa1e8d82"
      },
      "execution_count": 19,
      "outputs": [
        {
          "output_type": "stream",
          "name": "stdout",
          "text": [
            "Drive already mounted at /content/drive; to attempt to forcibly remount, call drive.mount(\"/content/drive\", force_remount=True).\n"
          ]
        },
        {
          "output_type": "display_data",
          "data": {
            "text/plain": [
              "<IPython.core.display.HTML object>"
            ],
            "text/html": [
              "\n",
              "     <input type=\"file\" id=\"files-0d5f2703-d606-45ac-b2a1-4fea50ce6c1b\" name=\"files[]\" multiple disabled\n",
              "        style=\"border:none\" />\n",
              "     <output id=\"result-0d5f2703-d606-45ac-b2a1-4fea50ce6c1b\">\n",
              "      Upload widget is only available when the cell has been executed in the\n",
              "      current browser session. Please rerun this cell to enable.\n",
              "      </output>\n",
              "      <script>// Copyright 2017 Google LLC\n",
              "//\n",
              "// Licensed under the Apache License, Version 2.0 (the \"License\");\n",
              "// you may not use this file except in compliance with the License.\n",
              "// You may obtain a copy of the License at\n",
              "//\n",
              "//      http://www.apache.org/licenses/LICENSE-2.0\n",
              "//\n",
              "// Unless required by applicable law or agreed to in writing, software\n",
              "// distributed under the License is distributed on an \"AS IS\" BASIS,\n",
              "// WITHOUT WARRANTIES OR CONDITIONS OF ANY KIND, either express or implied.\n",
              "// See the License for the specific language governing permissions and\n",
              "// limitations under the License.\n",
              "\n",
              "/**\n",
              " * @fileoverview Helpers for google.colab Python module.\n",
              " */\n",
              "(function(scope) {\n",
              "function span(text, styleAttributes = {}) {\n",
              "  const element = document.createElement('span');\n",
              "  element.textContent = text;\n",
              "  for (const key of Object.keys(styleAttributes)) {\n",
              "    element.style[key] = styleAttributes[key];\n",
              "  }\n",
              "  return element;\n",
              "}\n",
              "\n",
              "// Max number of bytes which will be uploaded at a time.\n",
              "const MAX_PAYLOAD_SIZE = 100 * 1024;\n",
              "\n",
              "function _uploadFiles(inputId, outputId) {\n",
              "  const steps = uploadFilesStep(inputId, outputId);\n",
              "  const outputElement = document.getElementById(outputId);\n",
              "  // Cache steps on the outputElement to make it available for the next call\n",
              "  // to uploadFilesContinue from Python.\n",
              "  outputElement.steps = steps;\n",
              "\n",
              "  return _uploadFilesContinue(outputId);\n",
              "}\n",
              "\n",
              "// This is roughly an async generator (not supported in the browser yet),\n",
              "// where there are multiple asynchronous steps and the Python side is going\n",
              "// to poll for completion of each step.\n",
              "// This uses a Promise to block the python side on completion of each step,\n",
              "// then passes the result of the previous step as the input to the next step.\n",
              "function _uploadFilesContinue(outputId) {\n",
              "  const outputElement = document.getElementById(outputId);\n",
              "  const steps = outputElement.steps;\n",
              "\n",
              "  const next = steps.next(outputElement.lastPromiseValue);\n",
              "  return Promise.resolve(next.value.promise).then((value) => {\n",
              "    // Cache the last promise value to make it available to the next\n",
              "    // step of the generator.\n",
              "    outputElement.lastPromiseValue = value;\n",
              "    return next.value.response;\n",
              "  });\n",
              "}\n",
              "\n",
              "/**\n",
              " * Generator function which is called between each async step of the upload\n",
              " * process.\n",
              " * @param {string} inputId Element ID of the input file picker element.\n",
              " * @param {string} outputId Element ID of the output display.\n",
              " * @return {!Iterable<!Object>} Iterable of next steps.\n",
              " */\n",
              "function* uploadFilesStep(inputId, outputId) {\n",
              "  const inputElement = document.getElementById(inputId);\n",
              "  inputElement.disabled = false;\n",
              "\n",
              "  const outputElement = document.getElementById(outputId);\n",
              "  outputElement.innerHTML = '';\n",
              "\n",
              "  const pickedPromise = new Promise((resolve) => {\n",
              "    inputElement.addEventListener('change', (e) => {\n",
              "      resolve(e.target.files);\n",
              "    });\n",
              "  });\n",
              "\n",
              "  const cancel = document.createElement('button');\n",
              "  inputElement.parentElement.appendChild(cancel);\n",
              "  cancel.textContent = 'Cancel upload';\n",
              "  const cancelPromise = new Promise((resolve) => {\n",
              "    cancel.onclick = () => {\n",
              "      resolve(null);\n",
              "    };\n",
              "  });\n",
              "\n",
              "  // Wait for the user to pick the files.\n",
              "  const files = yield {\n",
              "    promise: Promise.race([pickedPromise, cancelPromise]),\n",
              "    response: {\n",
              "      action: 'starting',\n",
              "    }\n",
              "  };\n",
              "\n",
              "  cancel.remove();\n",
              "\n",
              "  // Disable the input element since further picks are not allowed.\n",
              "  inputElement.disabled = true;\n",
              "\n",
              "  if (!files) {\n",
              "    return {\n",
              "      response: {\n",
              "        action: 'complete',\n",
              "      }\n",
              "    };\n",
              "  }\n",
              "\n",
              "  for (const file of files) {\n",
              "    const li = document.createElement('li');\n",
              "    li.append(span(file.name, {fontWeight: 'bold'}));\n",
              "    li.append(span(\n",
              "        `(${file.type || 'n/a'}) - ${file.size} bytes, ` +\n",
              "        `last modified: ${\n",
              "            file.lastModifiedDate ? file.lastModifiedDate.toLocaleDateString() :\n",
              "                                    'n/a'} - `));\n",
              "    const percent = span('0% done');\n",
              "    li.appendChild(percent);\n",
              "\n",
              "    outputElement.appendChild(li);\n",
              "\n",
              "    const fileDataPromise = new Promise((resolve) => {\n",
              "      const reader = new FileReader();\n",
              "      reader.onload = (e) => {\n",
              "        resolve(e.target.result);\n",
              "      };\n",
              "      reader.readAsArrayBuffer(file);\n",
              "    });\n",
              "    // Wait for the data to be ready.\n",
              "    let fileData = yield {\n",
              "      promise: fileDataPromise,\n",
              "      response: {\n",
              "        action: 'continue',\n",
              "      }\n",
              "    };\n",
              "\n",
              "    // Use a chunked sending to avoid message size limits. See b/62115660.\n",
              "    let position = 0;\n",
              "    do {\n",
              "      const length = Math.min(fileData.byteLength - position, MAX_PAYLOAD_SIZE);\n",
              "      const chunk = new Uint8Array(fileData, position, length);\n",
              "      position += length;\n",
              "\n",
              "      const base64 = btoa(String.fromCharCode.apply(null, chunk));\n",
              "      yield {\n",
              "        response: {\n",
              "          action: 'append',\n",
              "          file: file.name,\n",
              "          data: base64,\n",
              "        },\n",
              "      };\n",
              "\n",
              "      let percentDone = fileData.byteLength === 0 ?\n",
              "          100 :\n",
              "          Math.round((position / fileData.byteLength) * 100);\n",
              "      percent.textContent = `${percentDone}% done`;\n",
              "\n",
              "    } while (position < fileData.byteLength);\n",
              "  }\n",
              "\n",
              "  // All done.\n",
              "  yield {\n",
              "    response: {\n",
              "      action: 'complete',\n",
              "    }\n",
              "  };\n",
              "}\n",
              "\n",
              "scope.google = scope.google || {};\n",
              "scope.google.colab = scope.google.colab || {};\n",
              "scope.google.colab._files = {\n",
              "  _uploadFiles,\n",
              "  _uploadFilesContinue,\n",
              "};\n",
              "})(self);\n",
              "</script> "
            ]
          },
          "metadata": {}
        },
        {
          "output_type": "stream",
          "name": "stdout",
          "text": [
            "Saving cereal.csv to cereal.csv\n"
          ]
        }
      ]
    },
    {
      "cell_type": "code",
      "source": [
        "path=\"cereal.csv\"\n",
        "df= pd.read_csv(path)\n",
        "#a\n",
        "numeric_df = df.select_dtypes(include=['number'])\n",
        "summary = numeric_df.describe(percentiles=[0.25, 0.5, 0.75]).loc[['min', '25%', '50%', '75%', 'max']]\n",
        "summary.index = ['Minimum', 'Q1 (25%)', 'Median (50%)', 'Q3 (75%)', 'Maximum']\n",
        "\n",
        "# Display the summary table\n",
        "print(summary)"
      ],
      "metadata": {
        "colab": {
          "base_uri": "https://localhost:8080/"
        },
        "id": "mHK-qK8zRKo-",
        "outputId": "f980ac5f-3754-4f1f-debe-735b3394681b"
      },
      "execution_count": 22,
      "outputs": [
        {
          "output_type": "stream",
          "name": "stdout",
          "text": [
            "              Calories  Protein (g)  Fat  Sodium  Dietary Fiber  Carbs  \\\n",
            "Minimum           50.0          1.0  0.0    0.00           0.00   -1.0   \n",
            "Q1 (25%)         100.0          2.0  0.0  131.25           0.25   12.0   \n",
            "Median (50%)     110.0          2.0  1.0  180.00           1.50   14.0   \n",
            "Q3 (75%)         110.0          3.0  1.0  217.50           3.00   17.0   \n",
            "Maximum          160.0          6.0  5.0  320.00          14.00   23.0   \n",
            "\n",
            "              Sugars  Display Shelf  Potassium  Vitamins and Minerals  \\\n",
            "Minimum        -1.00            1.0      -1.00                    0.0   \n",
            "Q1 (25%)        3.00            1.0      40.00                   25.0   \n",
            "Median (50%)    6.00            2.0      90.00                   25.0   \n",
            "Q3 (75%)       10.75            3.0     113.75                   25.0   \n",
            "Maximum        15.00            3.0     330.00                  100.0   \n",
            "\n",
            "              Serving Size Weight  Cups per Serving  \n",
            "Minimum                       0.5             -1.00  \n",
            "Q1 (25%)                      1.0              0.67  \n",
            "Median (50%)                  1.0              0.75  \n",
            "Q3 (75%)                      1.0              1.00  \n",
            "Maximum                       1.5              1.50  \n"
          ]
        }
      ]
    },
    {
      "cell_type": "code",
      "source": [],
      "metadata": {
        "id": "FO9lts0zTk9A"
      },
      "execution_count": null,
      "outputs": []
    },
    {
      "cell_type": "code",
      "source": [
        "#b\n",
        "numeric_col=df.select_dtypes(include=['number']).columns\n",
        "columns_to_fix = [\"protein\", \"fat\", \"sodium\", \"fiber\", \"carbo\", \"sugars\", \"potassium\", \"vitamins\"]\n",
        "columns_to_fix = [col for col in columns_to_fix if col in numeric_col]\n",
        "for col in columns_to_fix:\n",
        "    mean_value = mean_value = df[df[col] != -1][col].mean()\n",
        "    df[col] = df[col].replace(-1, mean_value)\n",
        "print(df.head())\n"
      ],
      "metadata": {
        "id": "BIJyaaB8SKNN",
        "colab": {
          "base_uri": "https://localhost:8080/"
        },
        "outputId": "710e96c5-6e23-49c9-a2d0-d88a1eddb88f"
      },
      "execution_count": 38,
      "outputs": [
        {
          "output_type": "stream",
          "name": "stdout",
          "text": [
            "                 Cereal Name    Manufacturer Type  Calories  Protein (g)  Fat  \\\n",
            "0                  100%_Bran         Nabisco    C        70            4    1   \n",
            "1          100%_Natural_Bran     Quaker Oats    C       120            3    5   \n",
            "2                   All-Bran        Kelloggs    C        70            4    1   \n",
            "3  All-Bran_with_Extra_Fiber        Kelloggs    C        50            4    0   \n",
            "4             Almond_Delight  Ralston Purina    C       110            2    2   \n",
            "\n",
            "   Sodium  Dietary Fiber  Carbs  Sugars  Display Shelf Potassium  \\\n",
            "0     130           10.0    5.0       6              3      None   \n",
            "1      15            2.0    8.0       8              3      None   \n",
            "2     260            9.0    7.0       5              3      None   \n",
            "3     140           14.0    8.0       0              3      None   \n",
            "4     200            1.0   14.0       8              3      None   \n",
            "\n",
            "   Vitamins and Minerals  Serving Size Weight  Cups per Serving  \n",
            "0                     25                  1.0              0.33  \n",
            "1                      0                  1.0             -1.00  \n",
            "2                     25                  1.0              0.33  \n",
            "3                     25                  1.0              0.50  \n",
            "4                     25                  1.0              0.75  \n"
          ]
        }
      ]
    },
    {
      "cell_type": "code",
      "source": [
        "#c\n",
        "#same as a"
      ],
      "metadata": {
        "id": "D6zkNPbUT_Kr"
      },
      "execution_count": null,
      "outputs": []
    },
    {
      "cell_type": "code",
      "source": [
        "#d\n",
        "numeric_cols = [\"protein\", \"fat\", \"sodium\", \"fiber\", \"carbo\", \"sugars\", \"potassium\", \"vitamins\"]\n",
        "numeric_cols = [col for col in numeric_cols if col in df.columns]  # Ensure columns exist\n",
        "\n",
        "for col in numeric_cols:\n",
        "    median_value = df[df[col] != -1][col].median()\n",
        "\n",
        "    # Replace -1 with median\n",
        "    df[col] = df[col].replace(-1, median_value)"
      ],
      "metadata": {
        "id": "NDrAmnRlVJjM"
      },
      "execution_count": 39,
      "outputs": []
    },
    {
      "cell_type": "code",
      "source": [
        "#e\n",
        "#same as a"
      ],
      "metadata": {
        "id": "0_oWyy06Xfn4"
      },
      "execution_count": null,
      "outputs": []
    }
  ],
  "metadata": {
    "colab": {
      "name": "Welcome To Colab",
      "provenance": []
    },
    "kernelspec": {
      "display_name": "Python 3",
      "name": "python3"
    }
  },
  "nbformat": 4,
  "nbformat_minor": 0
}